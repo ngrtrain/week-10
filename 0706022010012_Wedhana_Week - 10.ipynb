{
 "cells": [
  {
   "cell_type": "code",
   "execution_count": 1,
   "metadata": {
    "colab": {
     "base_uri": "https://localhost:8080/"
    },
    "id": "JuFb1MP_O5EW",
    "outputId": "17a158d8-8df8-4af8-d8cb-b15b95e590c3"
   },
   "outputs": [
    {
     "name": "stdout",
     "output_type": "stream",
     "text": [
      "Requirement already satisfied: mlxtend in c:\\users\\ngura\\anaconda3\\lib\\site-packages (0.21.0)\n",
      "Requirement already satisfied: scikit-learn>=1.0.2 in c:\\users\\ngura\\anaconda3\\lib\\site-packages (from mlxtend) (1.0.2)\n",
      "Requirement already satisfied: numpy>=1.16.2 in c:\\users\\ngura\\anaconda3\\lib\\site-packages (from mlxtend) (1.21.5)\n",
      "Requirement already satisfied: matplotlib>=3.0.0 in c:\\users\\ngura\\anaconda3\\lib\\site-packages (from mlxtend) (3.5.1)\n",
      "Requirement already satisfied: setuptools in c:\\users\\ngura\\anaconda3\\lib\\site-packages (from mlxtend) (61.2.0)\n",
      "Requirement already satisfied: pandas>=0.24.2 in c:\\users\\ngura\\anaconda3\\lib\\site-packages (from mlxtend) (1.4.2)\n",
      "Requirement already satisfied: joblib>=0.13.2 in c:\\users\\ngura\\anaconda3\\lib\\site-packages (from mlxtend) (1.1.0)\n",
      "Requirement already satisfied: scipy>=1.2.1 in c:\\users\\ngura\\anaconda3\\lib\\site-packages (from mlxtend) (1.7.3)\n",
      "Requirement already satisfied: fonttools>=4.22.0 in c:\\users\\ngura\\anaconda3\\lib\\site-packages (from matplotlib>=3.0.0->mlxtend) (4.25.0)\n",
      "Requirement already satisfied: cycler>=0.10 in c:\\users\\ngura\\anaconda3\\lib\\site-packages (from matplotlib>=3.0.0->mlxtend) (0.11.0)\n",
      "Requirement already satisfied: pillow>=6.2.0 in c:\\users\\ngura\\anaconda3\\lib\\site-packages (from matplotlib>=3.0.0->mlxtend) (9.0.1)\n",
      "Requirement already satisfied: pyparsing>=2.2.1 in c:\\users\\ngura\\anaconda3\\lib\\site-packages (from matplotlib>=3.0.0->mlxtend) (3.0.4)\n",
      "Requirement already satisfied: python-dateutil>=2.7 in c:\\users\\ngura\\anaconda3\\lib\\site-packages (from matplotlib>=3.0.0->mlxtend) (2.8.2)\n",
      "Requirement already satisfied: kiwisolver>=1.0.1 in c:\\users\\ngura\\anaconda3\\lib\\site-packages (from matplotlib>=3.0.0->mlxtend) (1.3.2)\n",
      "Requirement already satisfied: packaging>=20.0 in c:\\users\\ngura\\anaconda3\\lib\\site-packages (from matplotlib>=3.0.0->mlxtend) (21.3)\n",
      "Requirement already satisfied: pytz>=2020.1 in c:\\users\\ngura\\anaconda3\\lib\\site-packages (from pandas>=0.24.2->mlxtend) (2021.3)\n",
      "Requirement already satisfied: six>=1.5 in c:\\users\\ngura\\anaconda3\\lib\\site-packages (from python-dateutil>=2.7->matplotlib>=3.0.0->mlxtend) (1.16.0)\n",
      "Requirement already satisfied: threadpoolctl>=2.0.0 in c:\\users\\ngura\\anaconda3\\lib\\site-packages (from scikit-learn>=1.0.2->mlxtend) (2.2.0)\n"
     ]
    }
   ],
   "source": [
    "import pandas as pd\n",
    "import numpy as np\n",
    "from matplotlib import pyplot as plt\n",
    "\n",
    "! pip install mlxtend"
   ]
  },
  {
   "cell_type": "code",
   "execution_count": 2,
   "metadata": {},
   "outputs": [],
   "source": [
    "from mlxtend.frequent_patterns import apriori, association_rules"
   ]
  },
  {
   "cell_type": "markdown",
   "metadata": {
    "id": "wDYkmRlZPSXY"
   },
   "source": [
    "# Association Rule for Store Dataset"
   ]
  },
  {
   "cell_type": "markdown",
   "metadata": {
    "id": "IYfOAa9fPjln"
   },
   "source": [
    "In this case study, we will explore how association rule can be used to analyze the items that are usualy purcased together."
   ]
  },
  {
   "cell_type": "markdown",
   "metadata": {
    "id": "7EOg6BIYPxt4"
   },
   "source": [
    "## Load Data"
   ]
  },
  {
   "cell_type": "markdown",
   "metadata": {
    "id": "Gp0OZCjrQT1n"
   },
   "source": [
    "We will use the dataset of the transaction in a certain store. You can get the dataset here: \n",
    "https://gist.githubusercontent.com/Harsh-Git-Hub/2979ec48043928ad9033d8469928e751/raw/72de943e040b8bd0d087624b154d41b2ba9d9b60/retail_dataset.csv"
   ]
  },
  {
   "cell_type": "code",
   "execution_count": 3,
   "metadata": {
    "colab": {
     "base_uri": "https://localhost:8080/",
     "height": 204
    },
    "id": "LDF65VBRQjFL",
    "outputId": "e9c6b17c-3450-4b26-af48-e963cc0dd11b"
   },
   "outputs": [
    {
     "data": {
      "text/html": [
       "<div>\n",
       "<style scoped>\n",
       "    .dataframe tbody tr th:only-of-type {\n",
       "        vertical-align: middle;\n",
       "    }\n",
       "\n",
       "    .dataframe tbody tr th {\n",
       "        vertical-align: top;\n",
       "    }\n",
       "\n",
       "    .dataframe thead th {\n",
       "        text-align: right;\n",
       "    }\n",
       "</style>\n",
       "<table border=\"1\" class=\"dataframe\">\n",
       "  <thead>\n",
       "    <tr style=\"text-align: right;\">\n",
       "      <th></th>\n",
       "      <th>0</th>\n",
       "      <th>1</th>\n",
       "      <th>2</th>\n",
       "      <th>3</th>\n",
       "      <th>4</th>\n",
       "      <th>5</th>\n",
       "      <th>6</th>\n",
       "    </tr>\n",
       "  </thead>\n",
       "  <tbody>\n",
       "    <tr>\n",
       "      <th>0</th>\n",
       "      <td>Bread</td>\n",
       "      <td>Wine</td>\n",
       "      <td>Eggs</td>\n",
       "      <td>Meat</td>\n",
       "      <td>Cheese</td>\n",
       "      <td>Pencil</td>\n",
       "      <td>Diaper</td>\n",
       "    </tr>\n",
       "    <tr>\n",
       "      <th>1</th>\n",
       "      <td>Bread</td>\n",
       "      <td>Cheese</td>\n",
       "      <td>Meat</td>\n",
       "      <td>Diaper</td>\n",
       "      <td>Wine</td>\n",
       "      <td>Milk</td>\n",
       "      <td>Pencil</td>\n",
       "    </tr>\n",
       "    <tr>\n",
       "      <th>2</th>\n",
       "      <td>Cheese</td>\n",
       "      <td>Meat</td>\n",
       "      <td>Eggs</td>\n",
       "      <td>Milk</td>\n",
       "      <td>Wine</td>\n",
       "      <td>NaN</td>\n",
       "      <td>NaN</td>\n",
       "    </tr>\n",
       "    <tr>\n",
       "      <th>3</th>\n",
       "      <td>Cheese</td>\n",
       "      <td>Meat</td>\n",
       "      <td>Eggs</td>\n",
       "      <td>Milk</td>\n",
       "      <td>Wine</td>\n",
       "      <td>NaN</td>\n",
       "      <td>NaN</td>\n",
       "    </tr>\n",
       "    <tr>\n",
       "      <th>4</th>\n",
       "      <td>Meat</td>\n",
       "      <td>Pencil</td>\n",
       "      <td>Wine</td>\n",
       "      <td>NaN</td>\n",
       "      <td>NaN</td>\n",
       "      <td>NaN</td>\n",
       "      <td>NaN</td>\n",
       "    </tr>\n",
       "    <tr>\n",
       "      <th>...</th>\n",
       "      <td>...</td>\n",
       "      <td>...</td>\n",
       "      <td>...</td>\n",
       "      <td>...</td>\n",
       "      <td>...</td>\n",
       "      <td>...</td>\n",
       "      <td>...</td>\n",
       "    </tr>\n",
       "    <tr>\n",
       "      <th>310</th>\n",
       "      <td>Bread</td>\n",
       "      <td>Eggs</td>\n",
       "      <td>Cheese</td>\n",
       "      <td>NaN</td>\n",
       "      <td>NaN</td>\n",
       "      <td>NaN</td>\n",
       "      <td>NaN</td>\n",
       "    </tr>\n",
       "    <tr>\n",
       "      <th>311</th>\n",
       "      <td>Meat</td>\n",
       "      <td>Milk</td>\n",
       "      <td>Pencil</td>\n",
       "      <td>NaN</td>\n",
       "      <td>NaN</td>\n",
       "      <td>NaN</td>\n",
       "      <td>NaN</td>\n",
       "    </tr>\n",
       "    <tr>\n",
       "      <th>312</th>\n",
       "      <td>Bread</td>\n",
       "      <td>Cheese</td>\n",
       "      <td>Eggs</td>\n",
       "      <td>Meat</td>\n",
       "      <td>Pencil</td>\n",
       "      <td>Diaper</td>\n",
       "      <td>Wine</td>\n",
       "    </tr>\n",
       "    <tr>\n",
       "      <th>313</th>\n",
       "      <td>Meat</td>\n",
       "      <td>Cheese</td>\n",
       "      <td>NaN</td>\n",
       "      <td>NaN</td>\n",
       "      <td>NaN</td>\n",
       "      <td>NaN</td>\n",
       "      <td>NaN</td>\n",
       "    </tr>\n",
       "    <tr>\n",
       "      <th>314</th>\n",
       "      <td>Eggs</td>\n",
       "      <td>Wine</td>\n",
       "      <td>Bagel</td>\n",
       "      <td>Bread</td>\n",
       "      <td>Meat</td>\n",
       "      <td>NaN</td>\n",
       "      <td>NaN</td>\n",
       "    </tr>\n",
       "  </tbody>\n",
       "</table>\n",
       "<p>315 rows × 7 columns</p>\n",
       "</div>"
      ],
      "text/plain": [
       "          0       1       2       3       4       5       6\n",
       "0     Bread    Wine    Eggs    Meat  Cheese  Pencil  Diaper\n",
       "1     Bread  Cheese    Meat  Diaper    Wine    Milk  Pencil\n",
       "2    Cheese    Meat    Eggs    Milk    Wine     NaN     NaN\n",
       "3    Cheese    Meat    Eggs    Milk    Wine     NaN     NaN\n",
       "4      Meat  Pencil    Wine     NaN     NaN     NaN     NaN\n",
       "..      ...     ...     ...     ...     ...     ...     ...\n",
       "310   Bread    Eggs  Cheese     NaN     NaN     NaN     NaN\n",
       "311    Meat    Milk  Pencil     NaN     NaN     NaN     NaN\n",
       "312   Bread  Cheese    Eggs    Meat  Pencil  Diaper    Wine\n",
       "313    Meat  Cheese     NaN     NaN     NaN     NaN     NaN\n",
       "314    Eggs    Wine   Bagel   Bread    Meat     NaN     NaN\n",
       "\n",
       "[315 rows x 7 columns]"
      ]
     },
     "execution_count": 3,
     "metadata": {},
     "output_type": "execute_result"
    }
   ],
   "source": [
    "# load the data set ans show the first five transaction\n",
    "df = pd.read_csv('https://gist.githubusercontent.com/Harsh-Git-Hub/2979ec48043928ad9033d8469928e751/raw/72de943e040b8bd0d087624b154d41b2ba9d9b60/retail_dataset.csv')\n",
    "df"
   ]
  },
  {
   "cell_type": "markdown",
   "metadata": {
    "id": "IkfhUabDQup9"
   },
   "source": [
    "# Get the set of product that has been purchased\n"
   ]
  },
  {
   "cell_type": "code",
   "execution_count": null,
   "metadata": {
    "colab": {
     "base_uri": "https://localhost:8080/"
    },
    "id": "Awz6VzuMwR_-",
    "outputId": "1fc181b3-cffe-48fe-9d3b-066323061907"
   },
   "outputs": [],
   "source": []
  },
  {
   "cell_type": "code",
   "execution_count": 4,
   "metadata": {},
   "outputs": [
    {
     "data": {
      "text/plain": [
       "0      0\n",
       "1     30\n",
       "2     70\n",
       "3    128\n",
       "4    182\n",
       "5    244\n",
       "6    274\n",
       "dtype: int64"
      ]
     },
     "execution_count": 4,
     "metadata": {},
     "output_type": "execute_result"
    }
   ],
   "source": [
    "df.isna().sum()"
   ]
  },
  {
   "cell_type": "markdown",
   "metadata": {
    "id": "M4g4k83bP07H"
   },
   "source": [
    "## Preprocess Data"
   ]
  },
  {
   "cell_type": "markdown",
   "metadata": {
    "id": "GEnL1bXtRLXe"
   },
   "source": [
    "In this step, we will transform our dataset so that we will have a one hot encoding based on the purchased products."
   ]
  },
  {
   "cell_type": "code",
   "execution_count": 5,
   "metadata": {
    "id": "N4wdVmFWQ_yg"
   },
   "outputs": [
    {
     "name": "stdout",
     "output_type": "stream",
     "text": [
      "     0_Bagel  0_Bread  0_Cheese  0_Diaper  0_Eggs  0_Meat  0_Milk  0_Pencil  \\\n",
      "0          0        1         0         0       0       0       0         0   \n",
      "1          0        1         0         0       0       0       0         0   \n",
      "2          0        0         1         0       0       0       0         0   \n",
      "3          0        0         1         0       0       0       0         0   \n",
      "4          0        0         0         0       0       1       0         0   \n",
      "..       ...      ...       ...       ...     ...     ...     ...       ...   \n",
      "310        0        1         0         0       0       0       0         0   \n",
      "311        0        0         0         0       0       1       0         0   \n",
      "312        0        1         0         0       0       0       0         0   \n",
      "313        0        0         0         0       0       1       0         0   \n",
      "314        0        0         0         0       1       0       0         0   \n",
      "\n",
      "     0_Wine  1_Bagel  ...  5_Wine  6_Bagel  6_Bread  6_Cheese  6_Diaper  \\\n",
      "0         0        0  ...       0        0        0         0         1   \n",
      "1         0        0  ...       0        0        0         0         0   \n",
      "2         0        0  ...       0        0        0         0         0   \n",
      "3         0        0  ...       0        0        0         0         0   \n",
      "4         0        0  ...       0        0        0         0         0   \n",
      "..      ...      ...  ...     ...      ...      ...       ...       ...   \n",
      "310       0        0  ...       0        0        0         0         0   \n",
      "311       0        0  ...       0        0        0         0         0   \n",
      "312       0        0  ...       0        0        0         0         0   \n",
      "313       0        0  ...       0        0        0         0         0   \n",
      "314       0        0  ...       0        0        0         0         0   \n",
      "\n",
      "     6_Eggs  6_Meat  6_Milk  6_Pencil  6_Wine  \n",
      "0         0       0       0         0       0  \n",
      "1         0       0       0         1       0  \n",
      "2         0       0       0         0       0  \n",
      "3         0       0       0         0       0  \n",
      "4         0       0       0         0       0  \n",
      "..      ...     ...     ...       ...     ...  \n",
      "310       0       0       0         0       0  \n",
      "311       0       0       0         0       0  \n",
      "312       0       0       0         0       1  \n",
      "313       0       0       0         0       0  \n",
      "314       0       0       0         0       0  \n",
      "\n",
      "[315 rows x 63 columns]\n"
     ]
    }
   ],
   "source": [
    "#create an itemset based on the products\n",
    "df = pd.get_dummies(df, columns = ['0', '1','2','3','4','5','6'])\n",
    "print(df)\n",
    "# encoding the feature"
   ]
  },
  {
   "cell_type": "code",
   "execution_count": 6,
   "metadata": {},
   "outputs": [
    {
     "data": {
      "text/html": [
       "<div>\n",
       "<style scoped>\n",
       "    .dataframe tbody tr th:only-of-type {\n",
       "        vertical-align: middle;\n",
       "    }\n",
       "\n",
       "    .dataframe tbody tr th {\n",
       "        vertical-align: top;\n",
       "    }\n",
       "\n",
       "    .dataframe thead th {\n",
       "        text-align: right;\n",
       "    }\n",
       "</style>\n",
       "<table border=\"1\" class=\"dataframe\">\n",
       "  <thead>\n",
       "    <tr style=\"text-align: right;\">\n",
       "      <th></th>\n",
       "      <th>0_Bagel</th>\n",
       "      <th>0_Bread</th>\n",
       "      <th>0_Cheese</th>\n",
       "      <th>0_Diaper</th>\n",
       "      <th>0_Eggs</th>\n",
       "    </tr>\n",
       "  </thead>\n",
       "  <tbody>\n",
       "    <tr>\n",
       "      <th>0</th>\n",
       "      <td>0</td>\n",
       "      <td>1</td>\n",
       "      <td>0</td>\n",
       "      <td>0</td>\n",
       "      <td>0</td>\n",
       "    </tr>\n",
       "    <tr>\n",
       "      <th>1</th>\n",
       "      <td>0</td>\n",
       "      <td>1</td>\n",
       "      <td>0</td>\n",
       "      <td>0</td>\n",
       "      <td>0</td>\n",
       "    </tr>\n",
       "    <tr>\n",
       "      <th>2</th>\n",
       "      <td>0</td>\n",
       "      <td>0</td>\n",
       "      <td>1</td>\n",
       "      <td>0</td>\n",
       "      <td>0</td>\n",
       "    </tr>\n",
       "    <tr>\n",
       "      <th>3</th>\n",
       "      <td>0</td>\n",
       "      <td>0</td>\n",
       "      <td>1</td>\n",
       "      <td>0</td>\n",
       "      <td>0</td>\n",
       "    </tr>\n",
       "    <tr>\n",
       "      <th>4</th>\n",
       "      <td>0</td>\n",
       "      <td>0</td>\n",
       "      <td>0</td>\n",
       "      <td>0</td>\n",
       "      <td>0</td>\n",
       "    </tr>\n",
       "    <tr>\n",
       "      <th>...</th>\n",
       "      <td>...</td>\n",
       "      <td>...</td>\n",
       "      <td>...</td>\n",
       "      <td>...</td>\n",
       "      <td>...</td>\n",
       "    </tr>\n",
       "    <tr>\n",
       "      <th>310</th>\n",
       "      <td>0</td>\n",
       "      <td>1</td>\n",
       "      <td>0</td>\n",
       "      <td>0</td>\n",
       "      <td>0</td>\n",
       "    </tr>\n",
       "    <tr>\n",
       "      <th>311</th>\n",
       "      <td>0</td>\n",
       "      <td>0</td>\n",
       "      <td>0</td>\n",
       "      <td>0</td>\n",
       "      <td>0</td>\n",
       "    </tr>\n",
       "    <tr>\n",
       "      <th>312</th>\n",
       "      <td>0</td>\n",
       "      <td>1</td>\n",
       "      <td>0</td>\n",
       "      <td>0</td>\n",
       "      <td>0</td>\n",
       "    </tr>\n",
       "    <tr>\n",
       "      <th>313</th>\n",
       "      <td>0</td>\n",
       "      <td>0</td>\n",
       "      <td>0</td>\n",
       "      <td>0</td>\n",
       "      <td>0</td>\n",
       "    </tr>\n",
       "    <tr>\n",
       "      <th>314</th>\n",
       "      <td>0</td>\n",
       "      <td>0</td>\n",
       "      <td>0</td>\n",
       "      <td>0</td>\n",
       "      <td>1</td>\n",
       "    </tr>\n",
       "  </tbody>\n",
       "</table>\n",
       "<p>315 rows × 5 columns</p>\n",
       "</div>"
      ],
      "text/plain": [
       "     0_Bagel  0_Bread  0_Cheese  0_Diaper  0_Eggs\n",
       "0          0        1         0         0       0\n",
       "1          0        1         0         0       0\n",
       "2          0        0         1         0       0\n",
       "3          0        0         1         0       0\n",
       "4          0        0         0         0       0\n",
       "..       ...      ...       ...       ...     ...\n",
       "310        0        1         0         0       0\n",
       "311        0        0         0         0       0\n",
       "312        0        1         0         0       0\n",
       "313        0        0         0         0       0\n",
       "314        0        0         0         0       1\n",
       "\n",
       "[315 rows x 5 columns]"
      ]
     },
     "execution_count": 6,
     "metadata": {},
     "output_type": "execute_result"
    }
   ],
   "source": [
    "df.iloc[:,0:5]"
   ]
  },
  {
   "cell_type": "code",
   "execution_count": 7,
   "metadata": {},
   "outputs": [
    {
     "data": {
      "text/plain": [
       "5_Bread      1\n",
       "6_Bagel      1\n",
       "6_Meat       2\n",
       "6_Eggs       2\n",
       "5_Wine       3\n",
       "            ..\n",
       "1_Meat      47\n",
       "1_Bagel     47\n",
       "2_Eggs      52\n",
       "0_Cheese    56\n",
       "0_Bread     74\n",
       "Length: 63, dtype: int64"
      ]
     },
     "execution_count": 7,
     "metadata": {},
     "output_type": "execute_result"
    }
   ],
   "source": [
    "df.sum().sort_values()"
   ]
  },
  {
   "cell_type": "code",
   "execution_count": 8,
   "metadata": {
    "colab": {
     "base_uri": "https://localhost:8080/",
     "height": 204
    },
    "id": "v67eBdxByEJX",
    "outputId": "b05c05fb-7ae1-4fbe-a01a-d6985c360f5e"
   },
   "outputs": [],
   "source": [
    "  # create new dataframe from the encoded features\n",
    "\n",
    "  # show the new dataframe\n"
   ]
  },
  {
   "cell_type": "markdown",
   "metadata": {
    "id": "lBJmzWAAS4Mw"
   },
   "source": [
    "Since, the encoded dataframe consist of the empty column. We will drop the NaN column or select all columns other than the first column."
   ]
  },
  {
   "cell_type": "code",
   "execution_count": null,
   "metadata": {
    "colab": {
     "base_uri": "https://localhost:8080/",
     "height": 204
    },
    "id": "2eHZu15xyTqm",
    "outputId": "7bffff16-fc02-48fe-bc98-7616bf75908e"
   },
   "outputs": [],
   "source": []
  },
  {
   "cell_type": "markdown",
   "metadata": {
    "id": "_UXDzSNPP35P"
   },
   "source": [
    "## Apriori Algorithm"
   ]
  },
  {
   "cell_type": "markdown",
   "metadata": {
    "id": "K-jD3ea4TYMV"
   },
   "source": [
    "We will use appriori algorithm to determine the frequently purchased products. \n",
    "For this case study, we will min_support=0.2"
   ]
  },
  {
   "cell_type": "code",
   "execution_count": 9,
   "metadata": {
    "colab": {
     "base_uri": "https://localhost:8080/",
     "height": 1000
    },
    "id": "BLA4Jqhoyjof",
    "outputId": "bc435206-1be2-41e6-b05b-0f1ba125e955"
   },
   "outputs": [
    {
     "name": "stderr",
     "output_type": "stream",
     "text": [
      "C:\\Users\\ngura\\anaconda3\\lib\\site-packages\\mlxtend\\frequent_patterns\\fpcommon.py:111: DeprecationWarning: DataFrames with non-bool types result in worse computationalperformance and their support might be discontinued in the future.Please use a DataFrame with bool type\n",
      "  warnings.warn(\n"
     ]
    }
   ],
   "source": [
    "# Building the model\n",
    "frq_items = apriori(df, min_support = 0.02, use_colnames = True)"
   ]
  },
  {
   "cell_type": "code",
   "execution_count": null,
   "metadata": {},
   "outputs": [],
   "source": []
  },
  {
   "cell_type": "markdown",
   "metadata": {
    "id": "uEr2YXHrVOIA"
   },
   "source": [
    "The we will generate association rule of the frequent itemset based on confidence level with the threshold=0.6"
   ]
  },
  {
   "cell_type": "code",
   "execution_count": 10,
   "metadata": {
    "colab": {
     "base_uri": "https://localhost:8080/",
     "height": 482
    },
    "id": "5GalSXOoy6H8",
    "outputId": "2fc5a421-bca1-41c8-f96a-e24f49280d99"
   },
   "outputs": [
    {
     "name": "stdout",
     "output_type": "stream",
     "text": [
      "    antecedents                         consequents  antecedent support  \\\n",
      "0     (1_Bagel)                           (0_Bread)            0.149206   \n",
      "1     (0_Bread)                           (1_Bagel)            0.234921   \n",
      "2     (0_Bread)                          (1_Cheese)            0.234921   \n",
      "3    (1_Cheese)                           (0_Bread)            0.111111   \n",
      "4    (1_Diaper)                           (0_Bread)            0.095238   \n",
      "..          ...                                 ...                 ...   \n",
      "237    (3_Milk)  (4_Wine, 0_Cheese, 2_Eggs, 1_Meat)            0.142857   \n",
      "238  (0_Cheese)    (3_Milk, 4_Wine, 2_Eggs, 1_Meat)            0.177778   \n",
      "239    (4_Wine)  (3_Milk, 0_Cheese, 2_Eggs, 1_Meat)            0.114286   \n",
      "240    (2_Eggs)  (3_Milk, 0_Cheese, 1_Meat, 4_Wine)            0.165079   \n",
      "241    (1_Meat)  (3_Milk, 0_Cheese, 2_Eggs, 4_Wine)            0.149206   \n",
      "\n",
      "     consequent support   support  confidence      lift  leverage  conviction  \n",
      "0              0.234921  0.095238    0.638298  2.717079  0.060186    2.115219  \n",
      "1              0.149206  0.095238    0.405405  2.717079  0.060186    1.430880  \n",
      "2              0.111111  0.025397    0.108108  0.972973 -0.000705    0.996633  \n",
      "3              0.234921  0.025397    0.228571  0.972973 -0.000705    0.991770  \n",
      "4              0.234921  0.028571    0.300000  1.277027  0.006198    1.092971  \n",
      "..                  ...       ...         ...       ...       ...         ...  \n",
      "237            0.038095  0.038095    0.266667  7.000000  0.032653    1.311688  \n",
      "238            0.038095  0.038095    0.214286  5.625000  0.031323    1.224242  \n",
      "239            0.098413  0.038095    0.333333  3.387097  0.026848    1.352381  \n",
      "240            0.038095  0.038095    0.230769  6.057692  0.031807    1.250476  \n",
      "241            0.038095  0.038095    0.255319  6.702128  0.032411    1.291701  \n",
      "\n",
      "[242 rows x 9 columns]\n"
     ]
    }
   ],
   "source": [
    "# Collecting the inferred rules in a dataframe\n",
    "rules = association_rules(frq_items, metric =\"lift\", min_threshold = 0.6)\n",
    "print(rules)"
   ]
  },
  {
   "cell_type": "code",
   "execution_count": 13,
   "metadata": {},
   "outputs": [
    {
     "data": {
      "text/html": [
       "<div>\n",
       "<style scoped>\n",
       "    .dataframe tbody tr th:only-of-type {\n",
       "        vertical-align: middle;\n",
       "    }\n",
       "\n",
       "    .dataframe tbody tr th {\n",
       "        vertical-align: top;\n",
       "    }\n",
       "\n",
       "    .dataframe thead th {\n",
       "        text-align: right;\n",
       "    }\n",
       "</style>\n",
       "<table border=\"1\" class=\"dataframe\">\n",
       "  <thead>\n",
       "    <tr style=\"text-align: right;\">\n",
       "      <th></th>\n",
       "      <th>antecedents</th>\n",
       "      <th>consequents</th>\n",
       "      <th>antecedent support</th>\n",
       "      <th>consequent support</th>\n",
       "      <th>support</th>\n",
       "      <th>confidence</th>\n",
       "      <th>lift</th>\n",
       "      <th>leverage</th>\n",
       "      <th>conviction</th>\n",
       "    </tr>\n",
       "  </thead>\n",
       "  <tbody>\n",
       "    <tr>\n",
       "      <th>8</th>\n",
       "      <td>(2_Milk)</td>\n",
       "      <td>(0_Bread)</td>\n",
       "      <td>0.142857</td>\n",
       "      <td>0.234921</td>\n",
       "      <td>0.104762</td>\n",
       "      <td>0.733333</td>\n",
       "      <td>3.121622</td>\n",
       "      <td>0.071202</td>\n",
       "      <td>2.869048</td>\n",
       "    </tr>\n",
       "    <tr>\n",
       "      <th>9</th>\n",
       "      <td>(0_Bread)</td>\n",
       "      <td>(2_Milk)</td>\n",
       "      <td>0.234921</td>\n",
       "      <td>0.142857</td>\n",
       "      <td>0.104762</td>\n",
       "      <td>0.445946</td>\n",
       "      <td>3.121622</td>\n",
       "      <td>0.071202</td>\n",
       "      <td>1.547038</td>\n",
       "    </tr>\n",
       "    <tr>\n",
       "      <th>18</th>\n",
       "      <td>(0_Cheese)</td>\n",
       "      <td>(1_Meat)</td>\n",
       "      <td>0.177778</td>\n",
       "      <td>0.149206</td>\n",
       "      <td>0.098413</td>\n",
       "      <td>0.553571</td>\n",
       "      <td>3.710106</td>\n",
       "      <td>0.071887</td>\n",
       "      <td>1.905778</td>\n",
       "    </tr>\n",
       "    <tr>\n",
       "      <th>19</th>\n",
       "      <td>(1_Meat)</td>\n",
       "      <td>(0_Cheese)</td>\n",
       "      <td>0.149206</td>\n",
       "      <td>0.177778</td>\n",
       "      <td>0.098413</td>\n",
       "      <td>0.659574</td>\n",
       "      <td>3.710106</td>\n",
       "      <td>0.071887</td>\n",
       "      <td>2.415278</td>\n",
       "    </tr>\n",
       "    <tr>\n",
       "      <th>20</th>\n",
       "      <td>(0_Cheese)</td>\n",
       "      <td>(2_Eggs)</td>\n",
       "      <td>0.177778</td>\n",
       "      <td>0.165079</td>\n",
       "      <td>0.101587</td>\n",
       "      <td>0.571429</td>\n",
       "      <td>3.461538</td>\n",
       "      <td>0.072240</td>\n",
       "      <td>1.948148</td>\n",
       "    </tr>\n",
       "    <tr>\n",
       "      <th>...</th>\n",
       "      <td>...</td>\n",
       "      <td>...</td>\n",
       "      <td>...</td>\n",
       "      <td>...</td>\n",
       "      <td>...</td>\n",
       "      <td>...</td>\n",
       "      <td>...</td>\n",
       "      <td>...</td>\n",
       "      <td>...</td>\n",
       "    </tr>\n",
       "    <tr>\n",
       "      <th>233</th>\n",
       "      <td>(0_Cheese, 1_Meat)</td>\n",
       "      <td>(3_Milk, 4_Wine, 2_Eggs)</td>\n",
       "      <td>0.098413</td>\n",
       "      <td>0.038095</td>\n",
       "      <td>0.038095</td>\n",
       "      <td>0.387097</td>\n",
       "      <td>10.161290</td>\n",
       "      <td>0.034346</td>\n",
       "      <td>1.569424</td>\n",
       "    </tr>\n",
       "    <tr>\n",
       "      <th>234</th>\n",
       "      <td>(4_Wine, 2_Eggs)</td>\n",
       "      <td>(3_Milk, 0_Cheese, 1_Meat)</td>\n",
       "      <td>0.047619</td>\n",
       "      <td>0.098413</td>\n",
       "      <td>0.038095</td>\n",
       "      <td>0.800000</td>\n",
       "      <td>8.129032</td>\n",
       "      <td>0.033409</td>\n",
       "      <td>4.507937</td>\n",
       "    </tr>\n",
       "    <tr>\n",
       "      <th>235</th>\n",
       "      <td>(4_Wine, 1_Meat)</td>\n",
       "      <td>(3_Milk, 0_Cheese, 2_Eggs)</td>\n",
       "      <td>0.053968</td>\n",
       "      <td>0.101587</td>\n",
       "      <td>0.038095</td>\n",
       "      <td>0.705882</td>\n",
       "      <td>6.948529</td>\n",
       "      <td>0.032613</td>\n",
       "      <td>3.054603</td>\n",
       "    </tr>\n",
       "    <tr>\n",
       "      <th>236</th>\n",
       "      <td>(2_Eggs, 1_Meat)</td>\n",
       "      <td>(3_Milk, 0_Cheese, 4_Wine)</td>\n",
       "      <td>0.098413</td>\n",
       "      <td>0.038095</td>\n",
       "      <td>0.038095</td>\n",
       "      <td>0.387097</td>\n",
       "      <td>10.161290</td>\n",
       "      <td>0.034346</td>\n",
       "      <td>1.569424</td>\n",
       "    </tr>\n",
       "    <tr>\n",
       "      <th>239</th>\n",
       "      <td>(4_Wine)</td>\n",
       "      <td>(3_Milk, 0_Cheese, 2_Eggs, 1_Meat)</td>\n",
       "      <td>0.114286</td>\n",
       "      <td>0.098413</td>\n",
       "      <td>0.038095</td>\n",
       "      <td>0.333333</td>\n",
       "      <td>3.387097</td>\n",
       "      <td>0.026848</td>\n",
       "      <td>1.352381</td>\n",
       "    </tr>\n",
       "  </tbody>\n",
       "</table>\n",
       "<p>168 rows × 9 columns</p>\n",
       "</div>"
      ],
      "text/plain": [
       "            antecedents                         consequents  \\\n",
       "8              (2_Milk)                           (0_Bread)   \n",
       "9             (0_Bread)                            (2_Milk)   \n",
       "18           (0_Cheese)                            (1_Meat)   \n",
       "19             (1_Meat)                          (0_Cheese)   \n",
       "20           (0_Cheese)                            (2_Eggs)   \n",
       "..                  ...                                 ...   \n",
       "233  (0_Cheese, 1_Meat)            (3_Milk, 4_Wine, 2_Eggs)   \n",
       "234    (4_Wine, 2_Eggs)          (3_Milk, 0_Cheese, 1_Meat)   \n",
       "235    (4_Wine, 1_Meat)          (3_Milk, 0_Cheese, 2_Eggs)   \n",
       "236    (2_Eggs, 1_Meat)          (3_Milk, 0_Cheese, 4_Wine)   \n",
       "239            (4_Wine)  (3_Milk, 0_Cheese, 2_Eggs, 1_Meat)   \n",
       "\n",
       "     antecedent support  consequent support   support  confidence       lift  \\\n",
       "8              0.142857            0.234921  0.104762    0.733333   3.121622   \n",
       "9              0.234921            0.142857  0.104762    0.445946   3.121622   \n",
       "18             0.177778            0.149206  0.098413    0.553571   3.710106   \n",
       "19             0.149206            0.177778  0.098413    0.659574   3.710106   \n",
       "20             0.177778            0.165079  0.101587    0.571429   3.461538   \n",
       "..                  ...                 ...       ...         ...        ...   \n",
       "233            0.098413            0.038095  0.038095    0.387097  10.161290   \n",
       "234            0.047619            0.098413  0.038095    0.800000   8.129032   \n",
       "235            0.053968            0.101587  0.038095    0.705882   6.948529   \n",
       "236            0.098413            0.038095  0.038095    0.387097  10.161290   \n",
       "239            0.114286            0.098413  0.038095    0.333333   3.387097   \n",
       "\n",
       "     leverage  conviction  \n",
       "8    0.071202    2.869048  \n",
       "9    0.071202    1.547038  \n",
       "18   0.071887    1.905778  \n",
       "19   0.071887    2.415278  \n",
       "20   0.072240    1.948148  \n",
       "..        ...         ...  \n",
       "233  0.034346    1.569424  \n",
       "234  0.033409    4.507937  \n",
       "235  0.032613    3.054603  \n",
       "236  0.034346    1.569424  \n",
       "239  0.026848    1.352381  \n",
       "\n",
       "[168 rows x 9 columns]"
      ]
     },
     "execution_count": 13,
     "metadata": {},
     "output_type": "execute_result"
    }
   ],
   "source": [
    "rules[(rules['lift'] >= 3) & (rules['confidence'] >= 0.3)]"
   ]
  },
  {
   "cell_type": "code",
   "execution_count": null,
   "metadata": {},
   "outputs": [],
   "source": []
  }
 ],
 "metadata": {
  "colab": {
   "provenance": []
  },
  "kernelspec": {
   "display_name": "Python 3 (ipykernel)",
   "language": "python",
   "name": "python3"
  },
  "language_info": {
   "codemirror_mode": {
    "name": "ipython",
    "version": 3
   },
   "file_extension": ".py",
   "mimetype": "text/x-python",
   "name": "python",
   "nbconvert_exporter": "python",
   "pygments_lexer": "ipython3",
   "version": "3.9.12"
  }
 },
 "nbformat": 4,
 "nbformat_minor": 1
}
